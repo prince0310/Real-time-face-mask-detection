{
 "cells": [
  {
   "cell_type": "markdown",
   "id": "abb1bd56",
   "metadata": {},
   "source": [
    "## PRINCE KUMAR"
   ]
  },
  {
   "cell_type": "markdown",
   "id": "fede292f",
   "metadata": {},
   "source": [
    "## Real - time - face - mask - detection"
   ]
  },
  {
   "cell_type": "markdown",
   "id": "34bdda71",
   "metadata": {},
   "source": [
    "### Data Preprocessing"
   ]
  },
  {
   "cell_type": "code",
   "execution_count": 19,
   "id": "2a3db9d8",
   "metadata": {},
   "outputs": [
    {
     "name": "stdout",
     "output_type": "stream",
     "text": [
      "{'without_mask': 0, 'with_mask': 1}\n",
      "['without_mask', 'with_mask']\n",
      "[0, 1]\n"
     ]
    }
   ],
   "source": [
    "import cv2,os\n",
    "\n",
    "data_path='dataset/train'\n",
    "categories=os.listdir(data_path)\n",
    "labels=[i for i in range(len(categories))]\n",
    "\n",
    "label_dict=dict(zip(categories,labels))7\n",
    "\n",
    "print(label_dict)\n",
    "print(categories)\n",
    "print(labels)"
   ]
  },
  {
   "cell_type": "code",
   "execution_count": 9,
   "id": "0ad1723d",
   "metadata": {},
   "outputs": [],
   "source": [
    "img_size=100\n",
    "data=[]\n",
    "target=[]\n",
    "\n",
    "\n",
    "for category in categories:\n",
    "    folder_path=os.path.join(data_path,category)\n",
    "    img_names=os.listdir(folder_path)\n",
    "        \n",
    "    for img_name in img_names:\n",
    "        img_path=os.path.join(folder_path,img_name)\n",
    "        img=cv2.imread(img_path)\n",
    "\n",
    "        try:\n",
    "            gray=cv2.cvtColor(img,cv2.COLOR_BGR2GRAY)           \n",
    "            #Coverting the image into gray scale\n",
    "            resized=cv2.resize(gray,(img_size,img_size))\n",
    "            #resizing the gray scale into 100x100, since we need a fixed common size for all the images in the dataset\n",
    "            data.append(resized)\n",
    "            target.append(label_dict[category])\n",
    "            #appending the image and the label(categorized) into the list (dataset)\n",
    "\n",
    "        except Exception as e:\n",
    "            print('Exception:',e)\n",
    "            #if any exception rasied, the exception will be printed here. And pass to the next image"
   ]
  },
  {
   "cell_type": "code",
   "execution_count": 10,
   "id": "3b647ca9",
   "metadata": {},
   "outputs": [],
   "source": [
    "import numpy as np\n",
    "\n",
    "data=np.array(data)/255.0\n",
    "data=np.reshape(data,(data.shape[0],img_size,img_size,1))\n",
    "target=np.array(target)\n",
    "\n",
    "from keras.utils import np_utils\n",
    "\n",
    "new_target=np_utils.to_categorical(target)"
   ]
  },
  {
   "cell_type": "code",
   "execution_count": 11,
   "id": "ab6dd9c8",
   "metadata": {},
   "outputs": [],
   "source": [
    "np.save('data',data)\n",
    "np.save('target',new_target)"
   ]
  },
  {
   "cell_type": "markdown",
   "id": "b27a3909",
   "metadata": {},
   "source": [
    "\n",
    "## Convolutional Neural Network Architecture"
   ]
  },
  {
   "cell_type": "code",
   "execution_count": 12,
   "id": "951476de",
   "metadata": {},
   "outputs": [],
   "source": [
    "import numpy as np\n",
    "\n",
    "data=np.load('data.npy')\n",
    "target=np.load('target.npy')"
   ]
  },
  {
   "cell_type": "code",
   "execution_count": 13,
   "id": "998aa6f7",
   "metadata": {},
   "outputs": [],
   "source": [
    "from keras.models import Sequential\n",
    "from keras.layers import Dense,Activation,Flatten,Dropout\n",
    "from keras.layers import Conv2D,MaxPooling2D\n",
    "from keras.callbacks import ModelCheckpoint\n",
    "\n",
    "model=Sequential()\n",
    "\n",
    "model.add(Conv2D(200,(3,3),input_shape=data.shape[1:]))\n",
    "model.add(Activation('relu'))\n",
    "model.add(MaxPooling2D(pool_size=(2,2)))\n",
    "#The first CNN layer followed by Relu and MaxPooling layers\n",
    "\n",
    "model.add(Conv2D(100,(3,3)))\n",
    "model.add(Activation('relu'))\n",
    "model.add(MaxPooling2D(pool_size=(2,2)))\n",
    "#The second convolution layer followed by Relu and MaxPooling layers\n",
    "\n",
    "model.add(Flatten())\n",
    "model.add(Dropout(0.5))\n",
    "#Flatten layer to stack the output convolutions from second convolution layer\n",
    "model.add(Dense(50,activation='relu'))\n",
    "#Dense layer of 64 neurons\n",
    "model.add(Dense(2,activation='softmax'))\n",
    "#The Final layer with two outputs for two categories\n",
    "\n",
    "model.compile(loss='categorical_crossentropy',optimizer='adam',metrics=['accuracy'])"
   ]
  },
  {
   "cell_type": "code",
   "execution_count": 14,
   "id": "c182d365",
   "metadata": {},
   "outputs": [],
   "source": [
    "from sklearn.model_selection import train_test_split\n",
    "\n",
    "train_data,test_data,train_target,test_target=train_test_split(data,target,test_size=0.1)"
   ]
  },
  {
   "cell_type": "code",
   "execution_count": 15,
   "id": "11193f69",
   "metadata": {},
   "outputs": [
    {
     "name": "stdout",
     "output_type": "stream",
     "text": [
      "Epoch 1/10\n",
      "5/5 [==============================] - 19s 964ms/step - loss: 0.8746 - accuracy: 0.4936 - val_loss: 0.6929 - val_accuracy: 0.4571\n",
      "INFO:tensorflow:Assets written to: model-001.model\\assets\n",
      "Epoch 2/10\n",
      "5/5 [==============================] - 4s 878ms/step - loss: 0.6921 - accuracy: 0.5199 - val_loss: 0.6915 - val_accuracy: 0.4571\n",
      "INFO:tensorflow:Assets written to: model-002.model\\assets\n",
      "Epoch 3/10\n",
      "5/5 [==============================] - 4s 868ms/step - loss: 0.6874 - accuracy: 0.5140 - val_loss: 0.6858 - val_accuracy: 0.4571\n",
      "INFO:tensorflow:Assets written to: model-003.model\\assets\n",
      "Epoch 4/10\n",
      "5/5 [==============================] - 4s 866ms/step - loss: 0.6533 - accuracy: 0.5920 - val_loss: 0.6651 - val_accuracy: 0.5714\n",
      "INFO:tensorflow:Assets written to: model-004.model\\assets\n",
      "Epoch 5/10\n",
      "5/5 [==============================] - 4s 813ms/step - loss: 0.6086 - accuracy: 0.6838 - val_loss: 0.6952 - val_accuracy: 0.4857\n",
      "Epoch 6/10\n",
      "5/5 [==============================] - 4s 866ms/step - loss: 0.5483 - accuracy: 0.6794 - val_loss: 0.5546 - val_accuracy: 0.7429\n",
      "INFO:tensorflow:Assets written to: model-006.model\\assets\n",
      "Epoch 7/10\n",
      "5/5 [==============================] - 5s 938ms/step - loss: 0.4971 - accuracy: 0.7959 - val_loss: 0.4879 - val_accuracy: 0.7714\n",
      "INFO:tensorflow:Assets written to: model-007.model\\assets\n",
      "Epoch 8/10\n",
      "5/5 [==============================] - 5s 1s/step - loss: 0.3800 - accuracy: 0.8000 - val_loss: 0.4729 - val_accuracy: 0.7714\n",
      "INFO:tensorflow:Assets written to: model-008.model\\assets\n",
      "Epoch 9/10\n",
      "5/5 [==============================] - 4s 870ms/step - loss: 0.2808 - accuracy: 0.9378 - val_loss: 0.3784 - val_accuracy: 0.8571\n",
      "INFO:tensorflow:Assets written to: model-009.model\\assets\n",
      "Epoch 10/10\n",
      "5/5 [==============================] - 4s 856ms/step - loss: 0.2966 - accuracy: 0.8851 - val_loss: 0.4916 - val_accuracy: 0.6286\n"
     ]
    }
   ],
   "source": [
    "checkpoint = ModelCheckpoint('model-{epoch:03d}.model',monitor='val_loss',verbose=0,save_best_only=True,mode='auto')\n",
    "history=model.fit(train_data,train_target,epochs=10,callbacks=[checkpoint],validation_split=0.2)"
   ]
  },
  {
   "cell_type": "markdown",
   "id": "5052d9e0",
   "metadata": {},
   "source": [
    "## Detecting Faces "
   ]
  },
  {
   "cell_type": "code",
   "execution_count": 16,
   "id": "a52d3559",
   "metadata": {},
   "outputs": [],
   "source": [
    "from keras.models import load_model\n",
    "import cv2\n",
    "import numpy as np"
   ]
  },
  {
   "cell_type": "code",
   "execution_count": 20,
   "id": "1f6cbc82",
   "metadata": {},
   "outputs": [],
   "source": [
    "model = load_model('model-017.model')\n",
    "\n",
    "face_clsfr=cv2.CascadeClassifier('haarcascade_frontalface_default.xml')\n",
    "\n",
    "source=cv2.VideoCapture(0)\n",
    "\n",
    "labels_dict={0:'WITH MASK',1:'WITHOUT MASK'}\n",
    "color_dict={0:(0,255,0),1:(0,0,255)}"
   ]
  },
  {
   "cell_type": "code",
   "execution_count": 21,
   "id": "0f4d0345",
   "metadata": {},
   "outputs": [],
   "source": [
    "\n",
    "while(True):\n",
    "\n",
    "    ret,img=source.read()\n",
    "    gray=cv2.cvtColor(img,cv2.COLOR_BGR2GRAY)\n",
    "    faces=face_clsfr.detectMultiScale(gray,1.3,5)  \n",
    "\n",
    "    for x,y,w,h in faces:\n",
    "    \n",
    "        face_img=gray[y:y+w,x:x+w]\n",
    "        resized=cv2.resize(face_img,(100,100))78\n",
    "        normalized=resized/255.0\n",
    "        reshaped=np.reshape(normalized,(1,100,100,1))\n",
    "        result=model.predict(reshaped)\n",
    "\n",
    "        label=np.argmax(result,axis=1)[0]\n",
    "      \n",
    "        cv2.rectangle(img,(x,y),(x+w,y+h),color_dict[label],2)\n",
    "        cv2.rectangle(img,(x,y-40),(x+w,y),color_dict[label],-1)\n",
    "        cv2.putText(img, labels_dict[label], (x, y-10),cv2.FONT_HERSHEY_SIMPLEX,0.8,(255,255,255),2)\n",
    "        \n",
    "        \n",
    "    cv2.imshow('LIVE',img)\n",
    "    key=cv2.waitKey(1)\n",
    "    \n",
    "    if(key==27):\n",
    "        break\n",
    "        \n",
    "cv2.destroyAllWindows()\n",
    "source.release()"
   ]
  }
 ],
 "metadata": {
  "kernelspec": {
   "display_name": "Python 3",
   "language": "python",
   "name": "python3"
  },
  "language_info": {
   "codemirror_mode": {
    "name": "ipython",
    "version": 3
   },
   "file_extension": ".py",
   "mimetype": "text/x-python",
   "name": "python",
   "nbconvert_exporter": "python",
   "pygments_lexer": "ipython3",
   "version": "3.8.8"
  }
 },
 "nbformat": 4,
 "nbformat_minor": 5
}
